{
 "cells": [
  {
   "cell_type": "markdown",
   "metadata": {},
   "source": [
    "<h1> title: \"Proyecto Integrador\" </h1>\n",
    "<strong>  author: \"Julián Castelblanco Benítez\"</strong>"
   ]
  },
  {
   "cell_type": "markdown",
   "metadata": {},
   "source": [
    "Cargamos las librerías"
   ]
  },
  {
   "cell_type": "code",
   "execution_count": 1,
   "metadata": {},
   "outputs": [],
   "source": [
    "import re\n",
    "import matplotlib.pyplot as plt\n",
    "import nltk #libreria de procesamiento natural del lenguaje \n",
    "import glob\n",
    "from nltk.corpus import stopwords\n",
    "from nltk.stem.porter import PorterStemmer\n",
    "from nltk.stem.lancaster import LancasterStemmer # autor diferente para Stemmer\n",
    "from nltk.stem import WordNetLemmatizer\n"
   ]
  },
  {
   "cell_type": "markdown",
   "metadata": {},
   "source": [
    "Lectura de la base de datos"
   ]
  },
  {
   "cell_type": "code",
   "execution_count": 2,
   "metadata": {},
   "outputs": [],
   "source": [
    "list_of_files = glob.glob('/home/jcastelblb/Proyecto_Integrador/datasets/papers-txt/*.txt')           # create the list of file\n",
    "texto=\"\"\n",
    "for file_name in list_of_files:\n",
    "  #print(file_name)\n",
    "  input_file = open(file_name,\"r\",encoding='iso-8859-1')\n",
    "  texto = texto + input_file.read()\n",
    "#print(len(list_of_files))\n",
    "#print(text)"
   ]
  },
  {
   "cell_type": "markdown",
   "metadata": {},
   "source": [
    "Selección de los datos que queremos (Únicamente letras)"
   ]
  },
  {
   "cell_type": "code",
   "execution_count": 3,
   "metadata": {},
   "outputs": [
    {
     "name": "stdout",
     "output_type": "stream",
     "text": [
      "57979780\n"
     ]
    }
   ],
   "source": [
    "texto= re.sub('[^A-z]+',' ',texto) #lo mismo de stringr\n",
    "print(len(texto))"
   ]
  },
  {
   "cell_type": "markdown",
   "metadata": {},
   "source": [
    "Tokenizar: crea un vector de todas las palabras de los textos."
   ]
  },
  {
   "cell_type": "code",
   "execution_count": 4,
   "metadata": {},
   "outputs": [
    {
     "name": "stdout",
     "output_type": "stream",
     "text": [
      "8910161\n"
     ]
    }
   ],
   "source": [
    "tokens= texto.split() \n",
    "tokens=[w.lower() for w in tokens if (len(w)>1) and w.isalpha()] # pasar a minúscula seleccionar palabras>1 y que sean letras \n",
    "print(len(tokens))"
   ]
  },
  {
   "cell_type": "markdown",
   "metadata": {},
   "source": [
    "Cargamos Stop Words y removemos las palabras que no agregan significado, artículos,etc."
   ]
  },
  {
   "cell_type": "code",
   "execution_count": 5,
   "metadata": {},
   "outputs": [
    {
     "name": "stdout",
     "output_type": "stream",
     "text": [
      "5316522\n"
     ]
    }
   ],
   "source": [
    "sw=stopwords.words('english')\n",
    "tokens=[w for w in tokens if w not in sw]\n",
    "print(len(tokens))"
   ]
  },
  {
   "cell_type": "markdown",
   "metadata": {},
   "source": [
    "Creamos el Stemmer (palabras que comparten una misma raíz)"
   ]
  },
  {
   "cell_type": "code",
   "execution_count": 6,
   "metadata": {},
   "outputs": [
    {
     "name": "stdout",
     "output_type": "stream",
     "text": [
      "5316522\n"
     ]
    }
   ],
   "source": [
    "stemmer= PorterStemmer() \n",
    "#stemmer2= LancasterStemmer() ## en qué consiste el lancasterS\n",
    "tokens=[stemmer.stem(w) for w in tokens] ## Stemen \n",
    "print(len(tokens))"
   ]
  },
  {
   "cell_type": "markdown",
   "metadata": {},
   "source": [
    "Lematizar (cambia palabras que signifiquen lo mismo en tiempo presente) ej. are is were was por be"
   ]
  },
  {
   "cell_type": "code",
   "execution_count": 7,
   "metadata": {},
   "outputs": [
    {
     "name": "stdout",
     "output_type": "stream",
     "text": [
      "5316522\n"
     ]
    }
   ],
   "source": [
    "wordnet_lemmatizer= WordNetLemmatizer()\n",
    "tokens= [wordnet_lemmatizer.lemmatize(w, pos=\"v\") for w in tokens] #Selecciona los verbos \n",
    "print(len(tokens))"
   ]
  },
  {
   "cell_type": "markdown",
   "metadata": {},
   "source": [
    "Frecuencia de las palabras y mostrar las 20 primeras"
   ]
  },
  {
   "cell_type": "code",
   "execution_count": 8,
   "metadata": {},
   "outputs": [
    {
     "name": "stdout",
     "output_type": "stream",
     "text": [
      "tokens=  5316522\n",
      "len voc=  74426\n",
      "[('use', 39438), ('set', 34352), ('algorithm', 28815), ('comput', 26313), ('let', 25708), ('follow', 25645), ('time', 24958), ('one', 24884), ('number', 21214), ('function', 20963), ('give', 20706), ('case', 20526), ('two', 20331), ('show', 19633), ('problem', 19159), ('model', 19080), ('result', 19020), ('theorem', 18979), ('graph', 18816), ('gener', 18019)]\n"
     ]
    }
   ],
   "source": [
    "fdist1=nltk.FreqDist(tokens)\n",
    "print(\"tokens= \", len(tokens))\n",
    "print(\"len voc= \",len(fdist1))\n",
    "fdist2=fdist1.most_common(20)\n",
    "print(fdist2)\n"
   ]
  },
  {
   "cell_type": "markdown",
   "metadata": {},
   "source": [
    "grafico de barras para las 20 primeas"
   ]
  },
  {
   "cell_type": "code",
   "execution_count": 9,
   "metadata": {},
   "outputs": [
    {
     "data": {
      "image/png": "[encoded data removed]",
      "text/plain": [
       "<Figure size 1080x720 with 1 Axes>"
      ]
     },
     "metadata": {},
     "output_type": "display_data"
    }
   ],
   "source": [
    "x,y=zip(*fdist2)# crea el vector xy en donde busca cada uno y pone las recurrencias de cada una\n",
    "plt.figure(figsize=(15,10))\n",
    "plt.bar(x,y)\n",
    "plt.xticks(rotation=90) # rotar los rótulos del eje x\n",
    "plt.show()"
   ]
  }
 ],
 "metadata": {
  "kernelspec": {
   "display_name": "Python3.6(conda)",
   "language": "python",
   "name": "python36"
  },
  "language_info": {
   "codemirror_mode": {
    "name": "ipython",
    "version": 3
   },
   "file_extension": ".py",
   "mimetype": "text/x-python",
   "name": "python",
   "nbconvert_exporter": "python",
   "pygments_lexer": "ipython3",
   "version": "3.6.8"
  }
 },
 "nbformat": 4,
 "nbformat_minor": 2
}
